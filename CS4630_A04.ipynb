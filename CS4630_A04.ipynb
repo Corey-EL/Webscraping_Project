{
 "cells": [
  {
   "cell_type": "markdown",
   "id": "a527ea99",
   "metadata": {},
   "source": [
    "## Corey Lang"
   ]
  },
  {
   "cell_type": "markdown",
   "id": "2aa020f0",
   "metadata": {},
   "source": [
    "### Assignment #4: Web scraping"
   ]
  },
  {
   "cell_type": "code",
   "execution_count": 1,
   "id": "77abc826",
   "metadata": {},
   "outputs": [],
   "source": [
    "import requests\n",
    "import urllib.request\n",
    "from bs4 import BeautifulSoup"
   ]
  },
  {
   "cell_type": "markdown",
   "id": "e38e409d",
   "metadata": {},
   "source": [
    "#### Task 1. Extract all the image links from: https://en.wikipedia.org/wiki/Bowling_Green_State_UniversityLinks to an external site."
   ]
  },
  {
   "cell_type": "code",
   "execution_count": 2,
   "id": "935f48a7",
   "metadata": {},
   "outputs": [],
   "source": [
    "headers = {\n",
    "    'User-Agent': 'BGSU bot',\n",
    "    'From': 'celang@bgsu.edu'\n",
    "}"
   ]
  },
  {
   "cell_type": "code",
   "execution_count": 3,
   "id": "f471daaa",
   "metadata": {},
   "outputs": [
    {
     "name": "stdout",
     "output_type": "stream",
     "text": [
      "/static/images/icons/wikipedia.png\n",
      "/static/images/mobile/copyright/wikipedia-wordmark-en.svg\n",
      "/static/images/mobile/copyright/wikipedia-tagline-en.svg\n",
      "//upload.wikimedia.org/wikipedia/commons/thumb/0/0e/Bondiola_Sandwich_with_fixings.jpg/149px-Bondiola_Sandwich_with_fixings.jpg\n",
      "//upload.wikimedia.org/wikipedia/commons/thumb/6/6f/SP_55_pr%C3%B3ximo_a_Lagoinha_%2852698194177%29.jpg/187px-SP_55_pr%C3%B3ximo_a_Lagoinha_%2852698194177%29.jpg\n",
      "//upload.wikimedia.org/wikipedia/commons/thumb/e/ef/Bison_near_a_hot_spring_in_Yellowstone-750px.JPG/170px-Bison_near_a_hot_spring_in_Yellowstone-750px.JPG\n",
      "//upload.wikimedia.org/wikipedia/commons/thumb/1/10/Lyttelton_Harbour_%28Whakaraup%C5%8D%29_from_Mt_Ada%2C_Canterbury%2C_New_Zealand.jpg/900px-Lyttelton_Harbour_%28Whakaraup%C5%8D%29_from_Mt_Ada%2C_Canterbury%2C_New_Zealand.jpg\n",
      "//upload.wikimedia.org/wikipedia/en/thumb/4/4a/Commons-logo.svg/31px-Commons-logo.svg.png\n",
      "//upload.wikimedia.org/wikipedia/commons/thumb/a/a6/MediaWiki-2020-icon.svg/35px-MediaWiki-2020-icon.svg.png\n",
      "//upload.wikimedia.org/wikipedia/commons/thumb/7/75/Wikimedia_Community_Logo.svg/35px-Wikimedia_Community_Logo.svg.png\n",
      "//upload.wikimedia.org/wikipedia/commons/thumb/f/fa/Wikibooks-logo.svg/35px-Wikibooks-logo.svg.png\n",
      "//upload.wikimedia.org/wikipedia/commons/thumb/f/ff/Wikidata-logo.svg/47px-Wikidata-logo.svg.png\n",
      "//upload.wikimedia.org/wikipedia/commons/thumb/2/24/Wikinews-logo.svg/51px-Wikinews-logo.svg.png\n",
      "//upload.wikimedia.org/wikipedia/commons/thumb/f/fa/Wikiquote-logo.svg/35px-Wikiquote-logo.svg.png\n",
      "//upload.wikimedia.org/wikipedia/commons/thumb/4/4c/Wikisource-logo.svg/35px-Wikisource-logo.svg.png\n",
      "//upload.wikimedia.org/wikipedia/commons/thumb/d/df/Wikispecies-logo.svg/35px-Wikispecies-logo.svg.png\n",
      "//upload.wikimedia.org/wikipedia/commons/thumb/0/0b/Wikiversity_logo_2017.svg/41px-Wikiversity_logo_2017.svg.png\n",
      "//upload.wikimedia.org/wikipedia/commons/thumb/d/dd/Wikivoyage-Logo-v3-icon.svg/35px-Wikivoyage-Logo-v3-icon.svg.png\n",
      "//upload.wikimedia.org/wikipedia/en/thumb/0/06/Wiktionary-logo-v2.svg/35px-Wiktionary-logo-v2.svg.png\n",
      "//en.wikipedia.org/wiki/Special:CentralAutoLogin/start?type=1x1\n",
      "/static/images/footer/wikimedia-button.png\n",
      "/static/images/footer/poweredby_mediawiki_88x31.png\n"
     ]
    }
   ],
   "source": [
    "url = \"https://en.wikipedia.org/\"\n",
    "response = requests.get(url, headers=headers)\n",
    "soup = BeautifulSoup(response.text, 'html.parser')\n",
    "images = soup.find_all('img') # finds all the images on the page\n",
    "  \n",
    "for item in images:\n",
    "    print(item['src'])"
   ]
  },
  {
   "cell_type": "markdown",
   "id": "16d2ac5b",
   "metadata": {},
   "source": [
    "#### Task 2. Scrape the movie info (e.g., name, year, rating) of all movies with above 8.5 ratings in the 1990's (https://www.imdb.com/chart/top)"
   ]
  },
  {
   "cell_type": "code",
   "execution_count": 4,
   "id": "d6298df7",
   "metadata": {},
   "outputs": [],
   "source": [
    "headers = {\n",
    "    'User-Agent': 'BGSU bot',\n",
    "    'From': 'celang@bgsu.edu'\n",
    "}"
   ]
  },
  {
   "cell_type": "code",
   "execution_count": 5,
   "id": "4afbf880",
   "metadata": {},
   "outputs": [
    {
     "name": "stdout",
     "output_type": "stream",
     "text": [
      "The Shawshank Redemption 1994 9.2\n",
      "Schindler's List 1993 8.9\n",
      "Pulp Fiction 1994 8.8\n",
      "Forrest Gump 1994 8.8\n",
      "Fight Club 1999 8.7\n",
      "The Matrix 1999 8.7\n",
      "Goodfellas 1990 8.7\n",
      "Se7en 1995 8.6\n",
      "The Silence of the Lambs 1991 8.6\n",
      "Saving Private Ryan 1998 8.6\n",
      "Life Is Beautiful 1997 8.6\n",
      "The Green Mile 1999 8.6\n"
     ]
    }
   ],
   "source": [
    "url = \"https://www.imdb.com/chart/top\"\n",
    "response = requests.get(url, headers=headers)\n",
    "soup = BeautifulSoup(response.text, 'html.parser')\n",
    "\n",
    "movies_table = soup.find('tbody', class_='lister-list')\n",
    "\n",
    "movies = []\n",
    "for movie_row in movies_table.find_all('tr'):\n",
    "    title_col = movie_row.find('td', class_='titleColumn')\n",
    "    rating_col = movie_row.find('td', class_='ratingColumn imdbRating')\n",
    "    title = title_col.a.text\n",
    "    year = title_col.find('span', class_='secondaryInfo').text.strip('()') # year is found in a sub-class inside of the title class\n",
    "    rating = float(rating_col.strong.text)\n",
    "    if rating > 8.5 and year.startswith('199'): # only append movie to table if the rating is higher than 8.5 and the year between 1990-1999\n",
    "        movies.append({'title': title, 'year': year, 'rating': rating})\n",
    "\n",
    "for movie in movies:\n",
    "    print(movie['title'], movie['year'], movie['rating']) # print the title, year, and rating\n"
   ]
  },
  {
   "cell_type": "code",
   "execution_count": null,
   "id": "40318d60",
   "metadata": {},
   "outputs": [],
   "source": []
  }
 ],
 "metadata": {
  "kernelspec": {
   "display_name": "Python 3 (ipykernel)",
   "language": "python",
   "name": "python3"
  },
  "language_info": {
   "codemirror_mode": {
    "name": "ipython",
    "version": 3
   },
   "file_extension": ".py",
   "mimetype": "text/x-python",
   "name": "python",
   "nbconvert_exporter": "python",
   "pygments_lexer": "ipython3",
   "version": "3.9.13"
  }
 },
 "nbformat": 4,
 "nbformat_minor": 5
}
